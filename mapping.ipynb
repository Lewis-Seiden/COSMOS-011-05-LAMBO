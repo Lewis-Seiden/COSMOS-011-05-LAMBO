{
 "cells": [
  {
   "cell_type": "markdown",
   "metadata": {},
   "source": []
  },
  {
   "cell_type": "code",
   "execution_count": 28,
   "metadata": {},
   "outputs": [],
   "source": [
    "import collections\n",
    "\n",
    "Sample = collections.namedtuple('Sample', ['timestamp', 'gnss_easting', 'gnss_northing', 'odom_drive', 'odom_steer', 'lidar'])"
   ]
  },
  {
   "cell_type": "code",
   "execution_count": 31,
   "metadata": {},
   "outputs": [],
   "source": [
    "def read_log(file):\n",
    "  result = []\n",
    "  for line in file:\n",
    "    sample = line.split()\n",
    "    result.append(Sample(float(sample[0]), float(sample[1]), float(sample[2]), float(sample[3]), float(sample[4]), sample[5::]))\n",
    "  return result"
   ]
  },
  {
   "cell_type": "code",
   "execution_count": 35,
   "metadata": {},
   "outputs": [
    {
     "name": "stdout",
     "output_type": "stream",
     "text": [
      "[Sample(timestamp=0.0, gnss_easting=100.0, gnss_northing=100.0, odom_drive=0.5, odom_steer=0.1, lidar=['1.0', '2.0', '1.5']), Sample(timestamp=1.0, gnss_easting=101.0, gnss_northing=102.0, odom_drive=0.6, odom_steer=0.1, lidar=['1.1', '2.1', '1.5'])]\n",
      "[Pose(x=0.0, y=0.0, theta=0.0), Pose(x=0.6, y=0.0, theta=0.0060200803251270335)]\n"
     ]
    }
   ],
   "source": [
    "import math\n",
    "WHEELBASE_LENGTH = 0.1\n",
    "def parse_odometry(log):\n",
    "  Pose = collections.namedtuple('Pose', ['x', 'y', 'theta'])\n",
    "  poses = [Pose(0.0, 0.0, 0.0)]\n",
    "  prev_samp = log[0]\n",
    "  for samp in log[1::]:\n",
    "    # https://thomasfermi.github.io/Algorithms-for-Automated-Driving/Control/BicycleModel.html\n",
    "    dt = samp.timestamp - prev_samp.timestamp\n",
    "    poses.append(\n",
    "      Pose(\n",
    "        poses[-1].x + samp.odom_drive * dt * math.cos(poses[-1].theta), \n",
    "        poses[-1].y + samp.odom_drive * dt * math.sin(poses[-1].theta), \n",
    "        poses[-1].theta + samp.odom_drive * dt * math.tan(samp.odom_steer) * WHEELBASE_LENGTH\n",
    "        )\n",
    "      )\n"
   ]
  },
  {
   "cell_type": "code",
   "execution_count": null,
   "metadata": {},
   "outputs": [],
   "source": [
    "import matplotlib.pyplot as plt\n",
    "test_log = read_log(open('./test_log.log', 'r'))\n",
    "print(test_log)\n",
    "odometry = parse_odometry(test_log)\n",
    "print(odometry)\n",
    "\n",
    "# show odo\n",
    "fig, ax = plt.subplots()"
   ]
  }
 ],
 "metadata": {
  "kernelspec": {
   "display_name": "Python 3",
   "language": "python",
   "name": "python3"
  },
  "language_info": {
   "codemirror_mode": {
    "name": "ipython",
    "version": 3
   },
   "file_extension": ".py",
   "mimetype": "text/x-python",
   "name": "python",
   "nbconvert_exporter": "python",
   "pygments_lexer": "ipython3",
   "version": "3.12.3"
  }
 },
 "nbformat": 4,
 "nbformat_minor": 2
}
